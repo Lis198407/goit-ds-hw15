{
 "cells": [
  {
   "cell_type": "code",
   "execution_count": 16,
   "metadata": {},
   "outputs": [
    {
     "name": "stderr",
     "output_type": "stream",
     "text": [
      "[nltk_data] Downloading package stopwords to\n",
      "[nltk_data]     C:\\Users\\User\\AppData\\Roaming\\nltk_data...\n",
      "[nltk_data]   Package stopwords is already up-to-date!\n",
      "[nltk_data] Downloading package punkt to\n",
      "[nltk_data]     C:\\Users\\User\\AppData\\Roaming\\nltk_data...\n",
      "[nltk_data]   Package punkt is already up-to-date!\n"
     ]
    },
    {
     "name": "stdout",
     "output_type": "stream",
     "text": [
      "\u001b[38;5;2m✔ Download and installation successful\u001b[0m\n",
      "You can now load the package via spacy.load('en_core_web_sm')\n",
      "\u001b[38;5;3m⚠ Restart to reload dependencies\u001b[0m\n",
      "If you are in a Jupyter or Colab notebook, you may need to restart Python in\n",
      "order to load all the package's dependencies. You can do this by selecting the\n",
      "'Restart kernel' or 'Restart runtime' option.\n"
     ]
    }
   ],
   "source": [
    "import spacy\n",
    "# from heapq import nlargest\n",
    "import spacy.cli\n",
    "import nltk\n",
    "from nltk.corpus import stopwords\n",
    "from nltk.tokenize import sent_tokenize #word_tokenize,\n",
    "from gensim.models import Word2Vec\n",
    "from sklearn.metrics.pairwise import cosine_similarity\n",
    "import string\n",
    "import numpy as np\n",
    "nltk.download('stopwords')\n",
    "nltk.download('punkt')\n",
    "spacy.cli.download(\"en_core_web_sm\")\n",
    "\n",
    "stop_words = set(stopwords.words('english'))\n",
    "punctuation = set(string.punctuation)\n",
    "\n",
    "nlp = spacy.load('en_core_web_sm')\n"
   ]
  },
  {
   "cell_type": "code",
   "execution_count": 9,
   "metadata": {},
   "outputs": [],
   "source": [
    "# Текст для обробки\n",
    "text = \"\"\"\n",
    "The Orbiter Discovery, OV-103, is considered eligible for listing in the National Register of Historic Places (NRHP) in the context of the U.S. Space Shuttle Program (1969-2011) under Criterion A in the areas of Space Exploration and Transportation and under Criterion C in the area of Engineering. Because it has achieved significance within the past fifty years, Criteria Consideration G applies. Under Criterion A, Discovery is significant as the oldest of the three extant orbiter vehicles constructed for the Space Shuttle Program (SSP), the longest running American space program to date; she was the third of five orbiters built by NASA. Unlike the Mercury, Gemini, and Apollo programs, the SSP’s emphasis was on cost effectiveness and reusability, and eventually the construction of a space station. Including her maiden voyage (launched August 30, 1984), Discovery flew to space thirty-nine times, more than any of the other four orbiters; she was also the first orbiter to fly twenty missions. She had the honor of being chosen as the Return to Flight vehicle after both the Challenger and Columbia accidents. Discovery was the first shuttle to fly with the redesigned SRBs, a result of the Challenger accident, and the first shuttle to fly with the Phase II and Block I SSME. Discovery also carried the Hubble Space Telescope to orbit and performed two of the five servicing missions to the observatory. She flew the first and last dedicated Department of Defense (DoD) missions, as well as the first unclassified defense-related mission. In addition, Discovery was vital to the construction of the International Space Station (ISS); she flew thirteen of the thirty-seven total missions flown to the station by a U.S. Space Shuttle. She was the first orbiter to dock to the ISS, and the first to perform an exchange of a resident crew. Under Criterion C, Discovery is significant as a feat of engineering. According to Wayne Hale, a flight director from Johnson Space Center, the Space Shuttle orbiter represents a “huge technological leap from expendable rockets and capsules to a reusable, winged, hypersonic, cargo-carrying spacecraft.” Although her base structure followed a conventional aircraft design, she used advanced materials that both minimized her weight for cargo-carrying purposes and featured low thermal expansion ratios, which provided a stable base for her Thermal Protection System (TPS) materials. The Space Shuttle orbiter also featured the first reusable TPS; all previous spaceflight vehicles had a single-use, ablative heat shield. Other notable engineering achievements of the orbiter included the first reusable orbital propulsion system, and the first two-fault-tolerant Integrated Avionics System. As Hale stated, the Space Shuttle remains “the largest, fastest, winged hypersonic aircraft in history,” having regularly flown at twenty-five times the speed of sound.\n",
    "\"\"\""
   ]
  },
  {
   "cell_type": "code",
   "execution_count": 15,
   "metadata": {},
   "outputs": [
    {
     "name": "stdout",
     "output_type": "stream",
     "text": [
      "оброблені речення:  ['\\n orbiter discovery ov-103 consider eligible list national register historic place nrhp context u.s space shuttle program 1969 2011 criterion area space exploration transportation criterion c area engineering', 'achieve significance within past fifty year criterion consideration g apply', 'criterion discovery significant old three extant orbiter vehicle construct space shuttle program ssp long run american space program date third five orbiter build nasa', 'unlike mercury gemini apollo program ssp ’s emphasis cost effectiveness reusability eventually construction space station', 'include maiden voyage launch august 30 1984 discovery fly space thirty nine time four orbiter also first orbiter fly twenty mission', 'honor choose return flight vehicle challenger columbia accident', 'discovery first shuttle fly redesign srb result challenger accident first shuttle fly phase ii block ssme', 'discovery also carry hubble space telescope orbit perform two five servicing mission observatory', 'fly first last dedicated department defense dod mission well first unclassified defense relate mission', 'addition discovery vital construction international space station iss fly thirteen thirty seven total mission fly station u.s space shuttle', 'first orbiter dock iss first perform exchange resident crew', 'criterion c discovery significant feat engineering', 'accord wayne hale flight director johnson space center space shuttle orbiter represent \" huge technological leap expendable rocket capsule reusable wing hypersonic cargo carry spacecraft \" although base structure follow conventional aircraft design use advanced material minimize weight cargo carry purpose feature low thermal expansion ratio provide stable base thermal protection system tps material', 'space shuttle orbiter also feature first reusable tps previous spaceflight vehicle single use ablative heat shield', 'notable engineering achievement orbiter include first reusable orbital propulsion system first two fault tolerant integrate avionic system', 'hale state space shuttle remain \" large fast wing hypersonic aircraft history \" regularly fly twenty five time speed sound']\n"
     ]
    }
   ],
   "source": [
    "# Лемізація та видалення пунктуації і стоп-слів\n",
    "sentences = sent_tokenize(text)\n",
    "cleaned_sentences = []\n",
    "\n",
    "\n",
    "def preprocess_and_lemmatize(text):\n",
    "    words = nlp(text.lower())\n",
    "    lemmatized_words = [token.lemma_ for token in words if token.text not in punctuation and token.text not in stop_words]\n",
    "    return \" \".join(lemmatized_words)\n",
    "\n",
    "for sent in sentences:\n",
    "    preprocess_lemmatized_sent = preprocess_and_lemmatize(sent)\n",
    "    cleaned_sentences.append(preprocess_lemmatized_sent)\n",
    "\n",
    "print(\"оброблені речення: \", cleaned_sentences)"
   ]
  },
  {
   "cell_type": "code",
   "execution_count": 19,
   "metadata": {},
   "outputs": [],
   "source": [
    "# тренуємо модель\n",
    "w2v_model = Word2Vec(sentences=cleaned_sentences, vector_size=100, window=5, min_count=1, workers=4)\n",
    "\n",
    "# переводимо речення в вектори\n",
    "sentence_vectors = []\n",
    "for sent in cleaned_sentences:\n",
    "    if len(sent) != 0:\n",
    "        v = sum([w2v_model.wv[word] for word in sent if word in w2v_model.wv]) / (len(sent))\n",
    "    else:\n",
    "        v = np.zeros((100,))\n",
    "    sentence_vectors.append(v)\n",
    "\n",
    "# розраховуємо матрицю подібності між векторами/реченнями\n",
    "similarity_matrix = np.zeros([len(sentence_vectors), len(sentence_vectors)])\n",
    "for i in range(len(sentence_vectors)):\n",
    "    for j in range(len(sentence_vectors)):\n",
    "        if i != j:\n",
    "            similarity_matrix[i][j] = cosine_similarity(sentence_vectors[i].reshape(1,100), sentence_vectors[j].reshape(1,100))[0,0]\n",
    "\n",
    "# розраховуємо важливість речень\n",
    "sentence_scores = similarity_matrix.sum(axis=1)\n",
    "ranked_sentences = [sentences[i] for i in np.argsort(sentence_scores)[-3:]]  # обираємо 3  найважливіших речення\n"
   ]
  },
  {
   "cell_type": "code",
   "execution_count": 20,
   "metadata": {},
   "outputs": [
    {
     "name": "stdout",
     "output_type": "stream",
     "text": [
      "len(text)=2908\n",
      "len(summary)=928\n",
      "summary='Other notable engineering achievements of the orbiter included the first reusable orbital propulsion system, and the first two-fault-tolerant Integrated Avionics System. According to Wayne Hale, a flight director from Johnson Space Center, the Space Shuttle orbiter represents a “huge technological leap from expendable rockets and capsules to a reusable, winged, hypersonic, cargo-carrying spacecraft.” Although her base structure followed a conventional aircraft design, she used advanced materials that both minimized her weight for cargo-carrying purposes and featured low thermal expansion ratios, which provided a stable base for her Thermal Protection System (TPS) materials. Under Criterion A, Discovery is significant as the oldest of the three extant orbiter vehicles constructed for the Space Shuttle Program (SSP), the longest running American space program to date; she was the third of five orbiters built by NASA.'\n"
     ]
    }
   ],
   "source": [
    "# Формуємо summary з найбільш релевантних речень\n",
    "summary = ' '.join(ranked_sentences)\n",
    "print(f\"{len(text)=}\")\n",
    "print(f\"{len(summary)=}\")\n",
    "print(f\"{summary=}\")"
   ]
  }
 ],
 "metadata": {
  "kernelspec": {
   "display_name": "Python 3",
   "language": "python",
   "name": "python3"
  },
  "language_info": {
   "codemirror_mode": {
    "name": "ipython",
    "version": 3
   },
   "file_extension": ".py",
   "mimetype": "text/x-python",
   "name": "python",
   "nbconvert_exporter": "python",
   "pygments_lexer": "ipython3",
   "version": "3.12.2"
  }
 },
 "nbformat": 4,
 "nbformat_minor": 2
}
